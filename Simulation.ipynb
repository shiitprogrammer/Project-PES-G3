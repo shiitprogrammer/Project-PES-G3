{
 "cells": [
  {
   "cell_type": "code",
   "execution_count": 225,
   "metadata": {},
   "outputs": [],
   "source": [
    "import math as m\n",
    "import matplotlib.pyplot as plt\n",
    "import numpy as np"
   ]
  },
  {
   "cell_type": "code",
   "execution_count": 226,
   "metadata": {},
   "outputs": [],
   "source": [
    "#wheel constants\n",
    "\n",
    "m = 0.400 #kg\n",
    "I = 0.474209 #kg m²\n",
    "r = 0.0506 #m"
   ]
  },
  {
   "cell_type": "code",
   "execution_count": 227,
   "metadata": {},
   "outputs": [],
   "source": [
    "#math constants\n",
    "\n",
    "pi = 3.14159265359 \n",
    "g = 9.81\n"
   ]
  },
  {
   "cell_type": "code",
   "execution_count": 228,
   "metadata": {},
   "outputs": [],
   "source": [
    "#motor constants\n",
    "rM = 0.02 #straal wiel\n",
    "mu = 0.1 #evenredigheidsfactor overbrenging wiel op kaasbol"
   ]
  },
  {
   "cell_type": "code",
   "execution_count": 229,
   "metadata": {},
   "outputs": [],
   "source": [
    "#starting conditions\n",
    "wM = 200 #hoeksnelheid motor\n",
    "a = 1"
   ]
  },
  {
   "cell_type": "code",
   "execution_count": 230,
   "metadata": {},
   "outputs": [
    {
     "name": "stdout",
     "output_type": "stream",
     "text": [
      "7.905138339920949\n"
     ]
    }
   ],
   "source": [
    "vM = rM * wM #vmotor = straal motor * hoeksnelheid motor\n",
    "vK = mu * vM #vkaasbol = wrijvingsfactor * v motor\n",
    "wK = vK/r #hoeksnelheid kaasbol = vkaasbol / straal\n",
    "print(wK)"
   ]
  },
  {
   "cell_type": "code",
   "execution_count": 231,
   "metadata": {},
   "outputs": [
    {
     "name": "stdout",
     "output_type": "stream",
     "text": [
      "-0.04268160241581244\n"
     ]
    }
   ],
   "source": [
    "#Vergelijkingen\n",
    "# Fw = m*ax\n",
    "# -Fzw + N = 0\n",
    "# -Fw*r = I*alpha\n",
    "#solve voor alpha\n",
    "alpha = (-m*a*r)/I \n",
    "print(alpha)\n"
   ]
  },
  {
   "cell_type": "code",
   "execution_count": 232,
   "metadata": {},
   "outputs": [],
   "source": [
    "#omega = alpha * t\n",
    "wlijst = []\n",
    "#lijst met hoeksnelheid in functie van tijd\n",
    "for i in range(10):\n",
    "    w =wK + alpha * i\n",
    "    wlijst.append(w)\n"
   ]
  },
  {
   "cell_type": "code",
   "execution_count": 233,
   "metadata": {},
   "outputs": [
    {
     "data": {
      "text/plain": [
       "<function matplotlib.pyplot.show(close=None, block=None)>"
      ]
     },
     "execution_count": 233,
     "metadata": {},
     "output_type": "execute_result"
    },
    {
     "data": {
      "image/png": "[encoded data removed]",
      "text/plain": [
       "<Figure size 432x288 with 1 Axes>"
      ]
     },
     "metadata": {
      "needs_background": "light"
     },
     "output_type": "display_data"
    }
   ],
   "source": [
    "x = np.linspace(0,i+1,i+1)\n",
    "plt.xlabel(\"tijd(s)\")\n",
    "plt.ylabel(\"Omega(rad/s)\")\n",
    "plt.plot(x, wlijst)\n",
    "plt.show"
   ]
  },
  {
   "cell_type": "code",
   "execution_count": 234,
   "metadata": {},
   "outputs": [
    {
     "name": "stdout",
     "output_type": "stream",
     "text": [
      "732.0626292856422\n",
      "37.04236904185349\n"
     ]
    }
   ],
   "source": [
    "#uitgewerkte integraal theta dalpha = omega domega\n",
    "theta = (-wK**2)/(2*alpha)\n",
    "\n",
    "print(theta)\n",
    "\n",
    "s = theta*r\n",
    "print(s)"
   ]
  }
 ],
 "metadata": {
  "kernelspec": {
   "display_name": "Python 3",
   "language": "python",
   "name": "python3"
  },
  "language_info": {
   "codemirror_mode": {
    "name": "ipython",
    "version": 3
   },
   "file_extension": ".py",
   "mimetype": "text/x-python",
   "name": "python",
   "nbconvert_exporter": "python",
   "pygments_lexer": "ipython3",
   "version": "3.10.11"
  }
 },
 "nbformat": 4,
 "nbformat_minor": 2
}
